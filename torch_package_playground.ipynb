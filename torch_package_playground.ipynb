{
 "cells": [
  {
   "cell_type": "code",
   "execution_count": null,
   "id": "9e20c10f-ccdc-49d1-84d2-33b900d94d75",
   "metadata": {},
   "outputs": [],
   "source": [
    "import torch\n",
    "torch.__version__"
   ]
  },
  {
   "cell_type": "code",
   "execution_count": null,
   "id": "46347727-6d30-46e8-a9af-c54aefa8e075",
   "metadata": {},
   "outputs": [],
   "source": [
    "from watch.tasks.fusion import datasets, methods"
   ]
  },
  {
   "cell_type": "code",
   "execution_count": null,
   "id": "6a8634e2-0313-4c77-9fae-f1acea066d7d",
   "metadata": {},
   "outputs": [],
   "source": [
    "method = methods.MultimodalTransformerDirectCD(\"smt_it_stm_p8\")\n",
    "method2 = methods.MultimodalTransformerDirectCD(\"smt_it_stm_p8\")"
   ]
  },
  {
   "cell_type": "code",
   "execution_count": null,
   "id": "e2c1f586-b912-40b0-9bbd-3817e61a2fdd",
   "metadata": {
    "tags": []
   },
   "outputs": [],
   "source": [
    "data = datasets.OneraCD_2018(\n",
    "    train_kwcoco_path=\"/home/local/KHQ/connor.greenwell/Projects/smart_watch_dvc/extern/onera_2018/onera_train.kwcoco.json\",\n",
    "    preprocessing_step=method.preprocessing_step,\n",
    "    batch_size=1,\n",
    "    num_workers=1,\n",
    ")\n",
    "data.setup(\"fit\")"
   ]
  },
  {
   "cell_type": "code",
   "execution_count": null,
   "id": "1aab250f-6714-40f6-ac6d-7b63dbc32d27",
   "metadata": {},
   "outputs": [],
   "source": [
    "dl = data.train_dataloader()"
   ]
  },
  {
   "cell_type": "code",
   "execution_count": null,
   "id": "ffd76876-fe4b-4968-a85b-1273f3fcb6c2",
   "metadata": {},
   "outputs": [],
   "source": [
    "batch = next(iter(dl))\n",
    "preds = method(batch[\"images\"].float())\n",
    "preds2 = method2(batch[\"images\"].float())"
   ]
  },
  {
   "cell_type": "code",
   "execution_count": null,
   "id": "1b8a1ff5-8bfb-4c48-8fd3-ac29b691ad8b",
   "metadata": {},
   "outputs": [],
   "source": [
    "from torch import package"
   ]
  },
  {
   "cell_type": "code",
   "execution_count": null,
   "id": "0def3c49-8d4b-43f3-bc15-1ee63cdbd2b0",
   "metadata": {},
   "outputs": [],
   "source": [
    "with package.PackageExporter(\"experiment_0.pt\", verbose=True) as exp:\n",
    "    exp.extern(\"pytorch_lightning.**\")\n",
    "    exp.extern(\"torchmetrics.**\")\n",
    "    exp.extern(\"einops.**\")\n",
    "    exp.extern(\"torch_optimizer\")\n",
    "    exp.extern(\"torchvision.transforms\")\n",
    "    exp.extern(\"numpy\")\n",
    "    exp.extern(\"kwimage\")\n",
    "    exp.extern(\"kwcoco\")\n",
    "    exp.extern(\"ndsampler\")\n",
    "    \n",
    "#     exp.intern(\"watch.tasks.fusion.methods.**\")\n",
    "#     exp.intern(\"watch.tasks.fusion.models.**\")\n",
    "#     exp.intern(\"watch.tasks.fusion.utils\")\n",
    "    exp.intern(\"watch.tasks.fusion.**\")\n",
    "    \n",
    "    exp.save_pickle(\"MultimodalTransformerDirectCD\", \"model.pkl\", method)"
   ]
  },
  {
   "cell_type": "code",
   "execution_count": null,
   "id": "0a41ad57-7ab2-48d7-9298-365bc1488413",
   "metadata": {},
   "outputs": [],
   "source": [
    "imp = package.PackageImporter(\"experiment_0.pt\")\n",
    "loaded_model = imp.load_pickle(\"MultimodalTransformerDirectCD\", \"model.pkl\")"
   ]
  },
  {
   "cell_type": "code",
   "execution_count": null,
   "id": "60f426cf-2cee-4c84-aad3-4f1b2d8e910b",
   "metadata": {},
   "outputs": [],
   "source": [
    "loaded_preds = loaded_model(batch[\"images\"].float())"
   ]
  },
  {
   "cell_type": "code",
   "execution_count": null,
   "id": "d676ea32-f808-49bc-b312-c0610c5708a4",
   "metadata": {},
   "outputs": [],
   "source": [
    "loaded_model.model[0][0].weight"
   ]
  },
  {
   "cell_type": "code",
   "execution_count": null,
   "id": "c98612fb-d9ca-4a21-8a6a-6634a24e4157",
   "metadata": {},
   "outputs": [],
   "source": [
    "method.model[0][0].weight"
   ]
  },
  {
   "cell_type": "code",
   "execution_count": null,
   "id": "a8714c72-53cd-4581-b3c8-fef206f0830d",
   "metadata": {},
   "outputs": [],
   "source": [
    "method2.model[0][0].weight"
   ]
  },
  {
   "cell_type": "code",
   "execution_count": null,
   "id": "5ad2008d-ee86-44cf-a52c-ec1fed7d0b9b",
   "metadata": {},
   "outputs": [],
   "source": [
    "(loaded_preds == preds).all()"
   ]
  },
  {
   "cell_type": "code",
   "execution_count": null,
   "id": "94f68ac4-4f85-43e5-a6a5-4bfa56fc5d19",
   "metadata": {},
   "outputs": [],
   "source": [
    "(loaded_preds == preds2).all()"
   ]
  }
 ],
 "metadata": {
  "kernelspec": {
   "display_name": "Python [conda env:watch]",
   "language": "python",
   "name": "conda-env-watch-py"
  },
  "language_info": {
   "codemirror_mode": {
    "name": "ipython",
    "version": 3
   },
   "file_extension": ".py",
   "mimetype": "text/x-python",
   "name": "python",
   "nbconvert_exporter": "python",
   "pygments_lexer": "ipython3",
   "version": "3.8.0"
  }
 },
 "nbformat": 4,
 "nbformat_minor": 5
}
